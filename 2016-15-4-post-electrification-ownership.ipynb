{
 "cells": [
  {
   "cell_type": "code",
   "execution_count": 1,
   "metadata": {
    "collapsed": true
   },
   "outputs": [],
   "source": [
    "%matplotlib inline\n",
    "import matplotlib.pyplot as plt\n",
    "import seaborn as sns\n",
    "import pandas as pd\n",
    "import numpy as np\n",
    "import pysentani as sti"
   ]
  },
  {
   "cell_type": "code",
   "execution_count": 2,
   "metadata": {
    "collapsed": true
   },
   "outputs": [],
   "source": [
    "survey = pd.read_excel('../data-anonymous/sentani-merged-cleaned-anonymous-2014-11-29.xlsx')\n",
    "survey['access_type'] = sti.access_type(survey)"
   ]
  },
  {
   "cell_type": "markdown",
   "metadata": {},
   "source": [
    "A future electrification model will be created to provide an estimation of what appliance ownership will look like after fully operational and reliable grid systems are put into place. Anaylsis is conducted at the access type level and will be applied in future analysis at the village level.\n",
    "For each appliance, responses were gathered regarding current ownership (yes/no/NaN) and desire to purchse (yes/no/NaN). Non-responses are not calculated into the model and are assumed to reflect the rest of the survey."
   ]
  },
  {
   "cell_type": "code",
   "execution_count": 3,
   "metadata": {
    "collapsed": true
   },
   "outputs": [],
   "source": [
    "appliances = ['lighting','TV','radio','fridge','rice_cooker','fan']"
   ]
  },
  {
   "cell_type": "code",
   "execution_count": 4,
   "metadata": {
    "collapsed": true
   },
   "outputs": [],
   "source": [
    "now_columns = ['app_now/{}'.format(a) for a in appliances]\n",
    "buy_columns = ['app_buy/{}'.format(a) for a in appliances]\n",
    "app_now = survey[now_columns]\n",
    "app_buy = survey[buy_columns]"
   ]
  },
  {
   "cell_type": "markdown",
   "metadata": {},
   "source": [
    "There are 4 possible response patterns which provide specific information necessary for the model calculation. (0,0) (0,1) (1,0) are straightforward, while (1,1) is not. If a household indicates that they own an appliance and also want to purchase the same appliance, we can treat that pattern 2 ways: (1,1) = 1 or (1,1) = 0. The unknown is whether they would buy the appliance if they had reliable and constant electricity or if they had enough money to pay for it. The calculation will reflect the former which is a desired end result of the study and if successful, might have a profound effect on the latter which lends support to the (1,1) = 1 calculation."
   ]
  },
  {
   "cell_type": "markdown",
   "metadata": {},
   "source": [
    "|Currently Owned|Want To Buy|Calculation|\n",
    "|---------------|-----------|-----------|\n",
    "|0              |0          |0          |\n",
    "|0              |1          |1          |"
   ]
  },
  {
   "cell_type": "markdown",
   "metadata": {},
   "source": [
    "If fully electrified and financially capable:"
   ]
  },
  {
   "cell_type": "markdown",
   "metadata": {},
   "source": [
    "|Currently Owned|Want To Buy|Calculation|\n",
    "|---------------|-----------|-----------|\n",
    "|1              |0          |0          |\n",
    "|1              |1          |1          |"
   ]
  },
  {
   "cell_type": "markdown",
   "metadata": {},
   "source": [
    "If fully electrified and financially uncapable:\n",
    "(We will not use this model because we want to plan for a grid that allows the possibility of financial growth)"
   ]
  },
  {
   "cell_type": "markdown",
   "metadata": {},
   "source": [
    "|Currently Owned|Want To Buy|Calculation|\n",
    "|---------------|-----------|-----------|\n",
    "|1              |0          |0          |\n",
    "|1              |1          |0          |"
   ]
  },
  {
   "cell_type": "code",
   "execution_count": 5,
   "metadata": {
    "collapsed": false
   },
   "outputs": [],
   "source": [
    "def willing_to_buy(row, now=None, buy=None):\n",
    "    if row[now]==1:\n",
    "        return 0\n",
    "    if row[now]==0 and row[buy]==0:\n",
    "        return 0\n",
    "    if row[now]==0 and row[buy]==1:\n",
    "        return 1\n",
    "\n",
    "def calc_willingness(survey, appliance):\n",
    "    app_now_appliance = 'app_now/' + appliance\n",
    "    app_buy_appliance = 'app_buy/' + appliance\n",
    "    survey['wb/' + appliance] = survey.apply(willing_to_buy, \n",
    "                                axis=1, \n",
    "                                now=app_now_appliance,\n",
    "                                buy=app_buy_appliance)\n",
    "\n",
    "# Creating variable with for loop adding each from appliance_list to calc_willingess function\n",
    "WBlist = []\n",
    "for appliance in appliances:\n",
    "    calc_willingness(survey, appliance)\n",
    "    WBlist.append('wb/' + appliance)"
   ]
  },
  {
   "cell_type": "code",
   "execution_count": 6,
   "metadata": {
    "collapsed": true
   },
   "outputs": [],
   "source": [
    "will_buy_columns = ['wb/{}'.format(a) for a in appliances]\n",
    "app_will_buy = survey[will_buy_columns]"
   ]
  },
  {
   "cell_type": "code",
   "execution_count": 7,
   "metadata": {
    "collapsed": false
   },
   "outputs": [],
   "source": [
    "app_now.columns = [col.replace('app_now/', '') for col in app_now.columns]\n",
    "app_buy.columns = [col.replace('app_buy/', '') for col in app_buy.columns]\n",
    "app_will_buy.columns = [col.replace('wb/', '') for col in app_will_buy.columns]"
   ]
  },
  {
   "cell_type": "markdown",
   "metadata": {},
   "source": [
    "`future_electfication` takes the sum of current ownership mean and our calculated will buy mean to provide a view of what appliance ownership will look like after all appliance acquisitions are fulfilled."
   ]
  },
  {
   "cell_type": "code",
   "execution_count": 8,
   "metadata": {
    "collapsed": false
   },
   "outputs": [
    {
     "data": {
      "text/html": [
       "<div>\n",
       "<table border=\"1\" class=\"dataframe\">\n",
       "  <thead>\n",
       "    <tr style=\"text-align: right;\">\n",
       "      <th></th>\n",
       "      <th>access_type</th>\n",
       "      <th>Appliance</th>\n",
       "      <th>Percent Ownership</th>\n",
       "    </tr>\n",
       "  </thead>\n",
       "  <tbody>\n",
       "    <tr>\n",
       "      <th>0</th>\n",
       "      <td>PLN_grid</td>\n",
       "      <td>lighting</td>\n",
       "      <td>0.938494</td>\n",
       "    </tr>\n",
       "    <tr>\n",
       "      <th>1</th>\n",
       "      <td>PLN_grid</td>\n",
       "      <td>TV</td>\n",
       "      <td>0.926658</td>\n",
       "    </tr>\n",
       "    <tr>\n",
       "      <th>2</th>\n",
       "      <td>PLN_grid</td>\n",
       "      <td>radio</td>\n",
       "      <td>0.346609</td>\n",
       "    </tr>\n",
       "    <tr>\n",
       "      <th>3</th>\n",
       "      <td>PLN_grid</td>\n",
       "      <td>fridge</td>\n",
       "      <td>0.768972</td>\n",
       "    </tr>\n",
       "    <tr>\n",
       "      <th>4</th>\n",
       "      <td>PLN_grid</td>\n",
       "      <td>rice_cooker</td>\n",
       "      <td>0.478144</td>\n",
       "    </tr>\n",
       "  </tbody>\n",
       "</table>\n",
       "</div>"
      ],
      "text/plain": [
       "  access_type    Appliance  Percent Ownership\n",
       "0    PLN_grid     lighting           0.938494\n",
       "1    PLN_grid           TV           0.926658\n",
       "2    PLN_grid        radio           0.346609\n",
       "3    PLN_grid       fridge           0.768972\n",
       "4    PLN_grid  rice_cooker           0.478144"
      ]
     },
     "execution_count": 8,
     "metadata": {},
     "output_type": "execute_result"
    }
   ],
   "source": [
    "app_now_mean = app_now.groupby(survey['access_type']).mean().stack()\n",
    "app_buy_mean = app_will_buy.groupby(survey['access_type']).mean().stack()\n",
    "\n",
    "future_electrification = app_buy_mean + app_now_mean \n",
    "fe_tidy = future_electrification.reset_index()\n",
    "fe_tidy.rename(columns={'level_1':'Appliance', 0:'Percent Ownership'},\n",
    "              inplace=True)\n",
    "fe_tidy.head()"
   ]
  },
  {
   "cell_type": "code",
   "execution_count": 9,
   "metadata": {
    "collapsed": true
   },
   "outputs": [],
   "source": [
    "fe_tidy.replace(to_replace = {'access_type': {'PLN_grid': 'PLN Grid',\n",
    "                                              'community_microgrid': 'Community Microgrid',\n",
    "                                              'PLN_microgrid': 'PLN Microgrid',\n",
    "                                              'no_access': 'No Access'}},inplace = True)\n",
    "fe_tidy.replace(to_replace= {'Appliance': {'lighting':'Lighting',\n",
    "                                           'radio':'Radio',\n",
    "                                           'fridge':'Fridge',\n",
    "                                           'rice_cooker':'Rice Cooker',\n",
    "                                           'fan':'Fan'}}, inplace=True)"
   ]
  },
  {
   "cell_type": "code",
   "execution_count": 10,
   "metadata": {
    "collapsed": false
   },
   "outputs": [
    {
     "data": {
      "image/png": "[encoded data removed]",
      "text/plain": [
       "<matplotlib.figure.Figure at 0x108cd2dd8>"
      ]
     },
     "metadata": {},
     "output_type": "display_data"
    }
   ],
   "source": [
    "plt.figure(figsize=(19,10))\n",
    "sns.barplot(hue='Appliance', y='Percent Ownership', x='access_type', data=fe_tidy)\n",
    "plt.ylabel('Percent Ownership', fontsize=20)\n",
    "plt.xlabel('Access Type', fontsize=20)\n",
    "plt.legend(prop={'size':16})\n",
    "plt.tick_params(labelsize=18)\n",
    "plt.savefig('post-electrification-ownership.pdf')"
   ]
  },
  {
   "cell_type": "code",
   "execution_count": null,
   "metadata": {
    "collapsed": false
   },
   "outputs": [],
   "source": []
  },
  {
   "cell_type": "code",
   "execution_count": null,
   "metadata": {
    "collapsed": false
   },
   "outputs": [],
   "source": []
  },
  {
   "cell_type": "code",
   "execution_count": null,
   "metadata": {
    "collapsed": true
   },
   "outputs": [],
   "source": []
  }
 ],
 "metadata": {
  "kernelspec": {
   "display_name": "Python 3",
   "language": "python",
   "name": "python3"
  },
  "language_info": {
   "codemirror_mode": {
    "name": "ipython",
    "version": 3
   },
   "file_extension": ".py",
   "mimetype": "text/x-python",
   "name": "python",
   "nbconvert_exporter": "python",
   "pygments_lexer": "ipython3",
   "version": "3.4.4"
  }
 },
 "nbformat": 4,
 "nbformat_minor": 0
}
